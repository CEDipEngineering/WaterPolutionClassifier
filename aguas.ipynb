{
 "metadata": {
  "language_info": {
   "codemirror_mode": {
    "name": "ipython",
    "version": 3
   },
   "file_extension": ".py",
   "mimetype": "text/x-python",
   "name": "python",
   "nbconvert_exporter": "python",
   "pygments_lexer": "ipython3",
   "version": "3.8.3"
  },
  "orig_nbformat": 2,
  "kernelspec": {
   "name": "python383jvsc74a57bd0b3ba2566441a7c06988d0923437866b63cedc61552a5af99d1f4fb67d367b25f",
   "display_name": "Python 3.8.3 64-bit ('base': conda)"
  }
 },
 "nbformat": 4,
 "nbformat_minor": 2,
 "cells": [
  {
   "cell_type": "code",
   "execution_count": null,
   "metadata": {},
   "outputs": [],
   "source": [
    "import pandas as pd\n",
    "import numpy as np\n",
    "import os\n",
    "import matplotlib.pyplot as plt\n",
    "from iqa_interpolator import IQA_Interpolator "
   ]
  },
  {
   "cell_type": "code",
   "execution_count": null,
   "metadata": {},
   "outputs": [],
   "source": [
    "reports = []\n",
    "for i in range(1,9):\n",
    "    reports.append(pd.read_excel(f'relatorios/relatorio{i}.xlsx', decimal=','))\n",
    "df = pd.concat(reports)\n",
    "df['Data Coleta'] = pd.to_datetime(df['Data Coleta'], format='%d/%m/%Y')\n",
    "df.head()\n",
    "# df.to_excel(\"FinalReport.xlsx\")"
   ]
  },
  {
   "cell_type": "code",
   "execution_count": null,
   "metadata": {},
   "outputs": [],
   "source": [
    "print(df.columns)\n",
    "# print(list(df.Parametro.value_counts().index))"
   ]
  },
  {
   "cell_type": "code",
   "execution_count": null,
   "metadata": {},
   "outputs": [],
   "source": [
    "droppers = ['Cod_Interaguas', 'Tipo Rede', 'Código Ponto', 'Status Ponto', 'Hora Coleta', 'UGRHI', 'Município', 'UF', 'CLASSE', 'Sistema Hídrico', 'Tipo de Sistema Hídrico', 'Localização', 'Captação', 'Altitude', 'Latitude', 'Longitude', 'Inicio Operação', 'Fim Operação']\n",
    "parametrosRelevantes = ['pH', 'Temperatura da Água', 'Sólido Dissolvido Total', 'Oxigênio Dissolvido', 'Turbidez', 'Nitrogênio-Nitrito', 'Nitrogênio-Nitrato', 'Nitrogênio Kjeldahl', 'Fósforo Total', 'DBO (5, 20)', 'Coliformes Termotolerantes', 'Temperatura do Ar', 'Unidade']\n",
    "dfFiltered = df.drop(droppers, axis=1)\n",
    "dfParameters = dfFiltered[dfFiltered['Parametro'].isin(parametrosRelevantes)].reset_index() \n",
    "dfParameters.sort_values(by='Data Coleta', inplace=True)"
   ]
  },
  {
   "cell_type": "code",
   "execution_count": null,
   "metadata": {
    "tags": []
   },
   "outputs": [],
   "source": [
    "parametersDfs={}\n",
    "\n",
    "for parameter in parametrosRelevantes:\n",
    "    if parameter != 'Coloração' and parameter != 'Unidade':\n",
    "        parametersDfs[parameter] = dfParameters[dfParameters['Parametro']==parameter].reset_index()\n",
    "        parametersDfs[parameter]['Valor'] = pd.to_numeric(parametersDfs[parameter]['Valor']) \n",
    "\n",
    "unidades = {}\n",
    "\n",
    "for parameter in parametrosRelevantes:\n",
    "    if parameter != 'Unidade':\n",
    "        if parameter not in unidades.keys():\n",
    "            unidades[parameter] = dfParameters[dfParameters['Parametro']==parameter].reset_index()['Unidade'][0]\n",
    "print(unidades)\n",
    "parametrosRelevantes.remove('Unidade')"
   ]
  },
  {
   "cell_type": "code",
   "execution_count": null,
   "metadata": {
    "tags": []
   },
   "outputs": [],
   "source": [
    "lista = list(dfParameters['Data Coleta'])\n",
    "listaUnica = []\n",
    "for data in lista:\n",
    "    if data not in listaUnica:\n",
    "        listaUnica.append(data)"
   ]
  },
  {
   "cell_type": "code",
   "execution_count": null,
   "metadata": {
    "tags": []
   },
   "outputs": [],
   "source": [
    "Interpolator = IQA_Interpolator()\n",
    "IQA_Dictionary = {}\n",
    "coletas=[]\n",
    "for data in listaUnica:\n",
    "    coleta = dfParameters[dfParameters['Data Coleta'] == data]\n",
    "    for key in parametrosRelevantes:\n",
    "        if key in list(coleta['Parametro']):\n",
    "            IQA_Dictionary[key] = float(pd.to_numeric(coleta[coleta['Parametro'] == key]['Valor']))\n",
    "    coletas.append([data, IQA_Dictionary.copy()])\n",
    "coletas = np.array(coletas)\n"
   ]
  },
  {
   "cell_type": "code",
   "execution_count": null,
   "metadata": {},
   "outputs": [],
   "source": []
  },
  {
   "cell_type": "code",
   "execution_count": null,
   "metadata": {},
   "outputs": [],
   "source": [
    "df_parametrosNoTempo = pd.DataFrame(coletas)\n",
    "for k in coletas[0][1].keys():\n",
    "    lista_k = []\n",
    "    for i in df_parametrosNoTempo[1]:\n",
    "        lista_k.append(i[k])\n",
    "    df_parametrosNoTempo[k] = lista_k\n",
    "df_parametrosNoTempo.drop(labels=1, axis=1, inplace=True)\n",
    "df_parametrosNoTempo.rename({0:'Data'},axis=1,inplace=True)\n",
    "df_parametrosNoTempo['CapacidadeO2'] = df_parametrosNoTempo['Temperatura da Água'].apply(Interpolator.getMaxSolubility)\n",
    "df_parametrosNoTempo['pctO2'] = df_parametrosNoTempo['Oxigênio Dissolvido']/df_parametrosNoTempo['CapacidadeO2']*100\n",
    "df_parametrosNoTempo['Nitrogênio Total'] = df_parametrosNoTempo['Nitrogênio Kjeldahl'] + df_parametrosNoTempo['Nitrogênio-Nitrato'] + df_parametrosNoTempo['Nitrogênio-Nitrito']\n",
    "df_parametrosNoTempo['Temperatura'] = df_parametrosNoTempo['Temperatura da Água'] - df_parametrosNoTempo['Temperatura do Ar'] \n",
    "df_parametrosNoTempo.drop(labels=['Nitrogênio-Nitrito', 'Nitrogênio-Nitrato', 'Nitrogênio Kjeldahl', 'Temperatura do Ar', 'Temperatura da Água', 'CapacidadeO2', 'Oxigênio Dissolvido'], axis=1, inplace=True)\n",
    "df_parametrosNoTempo = df_parametrosNoTempo.set_index(\"Data\")\n",
    "df_parametrosNoTempo"
   ]
  },
  {
   "cell_type": "code",
   "execution_count": null,
   "metadata": {},
   "outputs": [],
   "source": [
    "print(df_parametrosNoTempo.columns)\n",
    "print(unidades)"
   ]
  },
  {
   "cell_type": "code",
   "execution_count": null,
   "metadata": {},
   "outputs": [],
   "source": [
    "newUnidades = {}\n",
    "for k in df_parametrosNoTempo.columns:\n",
    "    if k in unidades.keys():\n",
    "        newUnidades[k] = unidades[k]\n",
    "    else:\n",
    "        print(k)\n",
    "newUnidades['pctO2'] = '%'\n",
    "newUnidades['Nitrogênio Total'] = 'mg/L'\n",
    "newUnidades['Temperatura'] = 'ºC'\n"
   ]
  },
  {
   "cell_type": "code",
   "execution_count": null,
   "metadata": {},
   "outputs": [],
   "source": [
    "titulos = {k:k for k in df_parametrosNoTempo.columns}\n",
    "titulos['pctO2'] = 'Concentração de Oxigênio'\n",
    "titulos['Temperatura'] = 'Diferença de Temperatura'\n",
    "print(titulos)"
   ]
  },
  {
   "cell_type": "code",
   "execution_count": null,
   "metadata": {},
   "outputs": [],
   "source": [
    "\n",
    "i = 0\n",
    "for parameter in df_parametrosNoTempo.columns:\n",
    "    serieValor = df_parametrosNoTempo[parameter].ewm(span=12, adjust=False).mean()\n",
    "    serieValorRaw = df_parametrosNoTempo[parameter]\n",
    "    plt.figure(figsize=(10,10))\n",
    "    plt.grid(True)\n",
    "    plt.plot(df_parametrosNoTempo.index, serieValor, c='#00035b', label = 'Filtered')\n",
    "    plt.plot(df_parametrosNoTempo.index, serieValorRaw, c='xkcd:darkgreen', alpha=0.5, label = 'Raw')\n",
    "    plt.title(titulos[parameter])\n",
    "    plt.xlabel(\"Data de Coleta\")\n",
    "    plt.ylabel(newUnidades[parameter])\n",
    "    plt.legend()\n",
    "    if parameter == 'pH':\n",
    "        plt.ylim((0, 12))\n",
    "    plt.savefig(f'plots/{i}.png')\n",
    "    i += 1"
   ]
  },
  {
   "cell_type": "code",
   "execution_count": null,
   "metadata": {},
   "outputs": [],
   "source": [
    "print(df_parametrosNoTempo.index)"
   ]
  },
  {
   "cell_type": "code",
   "execution_count": null,
   "metadata": {
    "tags": []
   },
   "outputs": [],
   "source": [
    "IQATimeline = {}\n",
    "for row in df_parametrosNoTempo.iterrows():\n",
    "    IQATimeline[row[0]] = Interpolator.IQA_Result({a:b for a,b in zip(row[1].index,row[1])})"
   ]
  },
  {
   "cell_type": "code",
   "execution_count": null,
   "metadata": {},
   "outputs": [],
   "source": [
    "IQADf = pd.DataFrame(list(IQATimeline.items()),columns = ['Data','IQA'])\n",
    "serieValor = IQADf['IQA'].ewm(span=12, adjust=False).mean()\n",
    "serieValorRaw = IQADf['IQA']\n",
    "plt.figure(figsize=(10,10))\n",
    "plt.grid(True)\n",
    "plt.plot(IQADf['Data'], serieValor, c='#00035b')\n",
    "plt.plot(IQADf['Data'], serieValorRaw, c='xkcd:darkgreen', alpha=0.5)\n",
    "plt.title(\"Indice de Qualidade das Àguas\")\n",
    "plt.xlabel(\"Data de Coleta\")\n",
    "plt.ylabel(\"Indice de Qualidade das Àguas\")\n",
    "plt.savefig(\"plots/iqa.png\")"
   ]
  },
  {
   "cell_type": "code",
   "execution_count": null,
   "metadata": {},
   "outputs": [],
   "source": []
  }
 ]
}