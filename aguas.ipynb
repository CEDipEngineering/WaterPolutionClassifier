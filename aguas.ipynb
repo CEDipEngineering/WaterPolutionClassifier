{
 "metadata": {
  "language_info": {
   "codemirror_mode": {
    "name": "ipython",
    "version": 3
   },
   "file_extension": ".py",
   "mimetype": "text/x-python",
   "name": "python",
   "nbconvert_exporter": "python",
   "pygments_lexer": "ipython3",
   "version": "3.8.3"
  },
  "orig_nbformat": 2,
  "kernelspec": {
   "name": "python383jvsc74a57bd0b3ba2566441a7c06988d0923437866b63cedc61552a5af99d1f4fb67d367b25f",
   "display_name": "Python 3.8.3 64-bit (conda)"
  }
 },
 "nbformat": 4,
 "nbformat_minor": 2,
 "cells": [
  {
   "cell_type": "code",
   "execution_count": null,
   "metadata": {},
   "outputs": [],
   "source": [
    "import pandas as pd\n",
    "import numpy as np\n",
    "import os\n",
    "import matplotlib.pyplot as plt\n",
    "import IQA_Interpolator from iqa_interpolator"
   ]
  },
  {
   "cell_type": "code",
   "execution_count": null,
   "metadata": {},
   "outputs": [],
   "source": [
    "reports = []\n",
    "for i in range(1,9):\n",
    "    reports.append(pd.read_excel(f'relatorios/relatorio{i}.xlsx', decimal=','))\n",
    "df = pd.concat(reports)\n",
    "df['Data Coleta'] = pd.to_datetime(df['Data Coleta'], format='%d/%m/%Y')\n",
    "df.head()"
   ]
  },
  {
   "cell_type": "code",
   "execution_count": null,
   "metadata": {},
   "outputs": [],
   "source": [
    "print(df.columns)\n",
    "print(df.Parametro.value_counts())"
   ]
  },
  {
   "cell_type": "code",
   "execution_count": null,
   "metadata": {},
   "outputs": [],
   "source": [
    "droppers = ['Cod_Interaguas', 'Tipo Rede', 'Código Ponto', 'Status Ponto', 'Hora Coleta', 'UGRHI', 'Município', 'UF', 'CLASSE', 'Sistema Hídrico', 'Tipo de Sistema Hídrico', 'Localização', 'Captação', 'Altitude', 'Latitude', 'Longitude', 'Inicio Operação', 'Fim Operação']\n",
    "parametrosRelevantes = ['pH', 'Temperatura da Água', 'Sólido Dissolvido Total', 'Oxigênio Dissolvido', 'Turbidez', 'Nitrogênio-Nitrito', 'Nitrogênio-Nitrato', 'Nitrogênio Amoniacal', 'Fósforo Total', 'DBO (5, 20)', 'Coliformes Termotolerantes']\n",
    "dfFiltered = df.drop(droppers, axis=1)\n",
    "dfParameters = dfFiltered[dfFiltered['Parametro'].isin(parametrosRelevantes)].reset_index() \n",
    "dfParameters.sort_values(by='Data Coleta', inplace=True)"
   ]
  },
  {
   "cell_type": "code",
   "execution_count": null,
   "metadata": {
    "tags": []
   },
   "outputs": [],
   "source": [
    "parametersDfs={}\n",
    "\n",
    "for parameter in parametrosRelevantes:\n",
    "    parametersDfs[parameter] = dfParameters[dfParameters['Parametro']==parameter].reset_index()\n",
    "    if parameter != 'Coloração':\n",
    "        parametersDfs[parameter]['Valor'] = pd.to_numeric(parametersDfs[parameter]['Valor']) \n"
   ]
  },
  {
   "cell_type": "code",
   "execution_count": null,
   "metadata": {},
   "outputs": [],
   "source": [
    "i = 0\n",
    "for parameter in parametrosRelevantes:\n",
    "    if parameter != 'Coloração':\n",
    "        serie = parametersDfs[parameter]\n",
    "        serieValor = serie['Valor'].ewm(span=10, adjust=False).mean()\n",
    "        serieValorRaw = serie['Valor']\n",
    "        plt.figure(figsize=(10,10))\n",
    "        plt.grid(True)\n",
    "        plt.plot(serie['Data Coleta'], serieValor, c='#00035b')\n",
    "        plt.plot(serie['Data Coleta'], serieValorRaw, c='#ff796c', alpha=0.5)\n",
    "        plt.title(parameter)\n",
    "        plt.xlabel(\"Data de Coleta\")\n",
    "        plt.ylabel(parameter)\n",
    "        plt.savefig(f'plots/{i}.png')\n",
    "        i += 1"
   ]
  },
  {
   "cell_type": "code",
   "execution_count": null,
   "metadata": {},
   "outputs": [],
   "source": []
  }
 ]
}